{
 "cells": [
  {
   "cell_type": "code",
   "execution_count": 1,
   "id": "320aeda6",
   "metadata": {},
   "outputs": [],
   "source": [
    "def rowmeans(nrows, ncols):\n",
    "    array1=nrnd.random([nrows,ncols])\n",
    "    mean=np.mean(array1,axis=1)\n",
    "    return mean\n",
    "def rowmeanhist(nrows, ncols):\n",
    "    data1=rowmeans\n",
    "    return ax1.hist(data1)"
   ]
  },
  {
   "cell_type": "code",
   "execution_count": 2,
   "id": "5682b557",
   "metadata": {},
   "outputs": [
    {
     "ename": "NameError",
     "evalue": "name 'ax1' is not defined",
     "output_type": "error",
     "traceback": [
      "\u001b[0;31m---------------------------------------------------------------------------\u001b[0m",
      "\u001b[0;31mNameError\u001b[0m                                 Traceback (most recent call last)",
      "\u001b[0;32m/var/folders/js/642dcsgn28s1ll64145fvqx40000gn/T/ipykernel_43358/3136130677.py\u001b[0m in \u001b[0;36m<module>\u001b[0;34m\u001b[0m\n\u001b[0;32m----> 1\u001b[0;31m \u001b[0mrowmeanhist\u001b[0m\u001b[0;34m(\u001b[0m\u001b[0;36m20\u001b[0m\u001b[0;34m,\u001b[0m\u001b[0;36m10\u001b[0m\u001b[0;34m)\u001b[0m\u001b[0;34m\u001b[0m\u001b[0;34m\u001b[0m\u001b[0m\n\u001b[0m",
      "\u001b[0;32m/var/folders/js/642dcsgn28s1ll64145fvqx40000gn/T/ipykernel_43358/2020936663.py\u001b[0m in \u001b[0;36mrowmeanhist\u001b[0;34m(nrows, ncols)\u001b[0m\n\u001b[1;32m      5\u001b[0m \u001b[0;32mdef\u001b[0m \u001b[0mrowmeanhist\u001b[0m\u001b[0;34m(\u001b[0m\u001b[0mnrows\u001b[0m\u001b[0;34m,\u001b[0m \u001b[0mncols\u001b[0m\u001b[0;34m)\u001b[0m\u001b[0;34m:\u001b[0m\u001b[0;34m\u001b[0m\u001b[0;34m\u001b[0m\u001b[0m\n\u001b[1;32m      6\u001b[0m     \u001b[0mdata1\u001b[0m\u001b[0;34m=\u001b[0m\u001b[0mrowmeans\u001b[0m\u001b[0;34m\u001b[0m\u001b[0;34m\u001b[0m\u001b[0m\n\u001b[0;32m----> 7\u001b[0;31m     \u001b[0;32mreturn\u001b[0m \u001b[0max1\u001b[0m\u001b[0;34m.\u001b[0m\u001b[0mhist\u001b[0m\u001b[0;34m(\u001b[0m\u001b[0mdata1\u001b[0m\u001b[0;34m)\u001b[0m\u001b[0;34m\u001b[0m\u001b[0;34m\u001b[0m\u001b[0m\n\u001b[0m",
      "\u001b[0;31mNameError\u001b[0m: name 'ax1' is not defined"
     ]
    }
   ],
   "source": [
    "rowmeanhist(20,10)"
   ]
  },
  {
   "cell_type": "code",
   "execution_count": 12,
   "id": "efcdcdfe",
   "metadata": {},
   "outputs": [
    {
     "name": "stdout",
     "output_type": "stream",
     "text": [
      "[6 3 2 3 4 4 4 5 4 3 1 3 3 0 3 2 4 1 1 4 1 2 3 3 5 2 2 3 4 7 1 4 3 3 3 1 5\n",
      " 4 4 3 1 4 5 2 5 4 3 2 3 3 2 2 4 4 3 2 5 2 4 1 3 3 1 6 3 6 1 4 6 3 5 2 4 3\n",
      " 4 2 2 4 2 3 2 2 4 3 4 0 2 2 3 5 2 3 0 1 2 2 2 2 4 4]\n"
     ]
    },
    {
     "data": {
      "text/plain": [
       "(array([0.03, 0.11, 0.24, 0.26, 0.23, 0.08, 0.04, 0.01, 0.  , 0.  , 0.  ]),\n",
       " array([-0.5,  0.5,  1.5,  2.5,  3.5,  4.5,  5.5,  6.5,  7.5,  8.5,  9.5,\n",
       "        10.5]),\n",
       " <BarContainer object of 11 artists>)"
      ]
     },
     "execution_count": 12,
     "metadata": {},
     "output_type": "execute_result"
    },
    {
     "data": {
      "image/png": "[encoded data removed]",
      "text/plain": [
       "<Figure size 640x480 with 1 Axes>"
      ]
     },
     "metadata": {},
     "output_type": "display_data"
    }
   ],
   "source": [
    "import matplotlib.pyplot as plt\n",
    "import numpy.random as nrnd\n",
    "import numpy as np\n",
    "n,p=100,0.3\n",
    "data100=nrnd.binomial(10,0.3,100)\n",
    "print(data100)\n",
    "plt.hist(data100,bins=np.arange(-0.5,11.5),color='red',density=True)"
   ]
  },
  {
   "cell_type": "code",
   "execution_count": 6,
   "id": "5bcee408",
   "metadata": {},
   "outputs": [
    {
     "name": "stdout",
     "output_type": "stream",
     "text": [
      "[3 6 3 2 9 4 1 2 3 4 1 5 2 3 1 2 7 2 5 3 5 1 3 4 2 4 6 4 3 1 1 2 0 3 5 3 2\n",
      " 2 8 4 1 5 8 3 2 4 3 4 1 8 1 2 4 5 7 1 1 4 9 5 3 6 1 4 3 4 4 1 4 5 3 4 2 2\n",
      " 2 3 5 2 3 3 3 2 2 3 2 3 1 4 3 4 4 4 4 2 2 3 4 5 1 4]\n"
     ]
    }
   ],
   "source": [
    "n=100\n",
    "data1=nrnd.poisson(3.0,n)\n",
    "print(data1)"
   ]
  },
  {
   "cell_type": "code",
   "execution_count": 2,
   "id": "46af6620",
   "metadata": {},
   "outputs": [
    {
     "name": "stdout",
     "output_type": "stream",
     "text": [
      "[[ 2  3 -2]\n",
      " [ 1 -5  0]\n",
      " [-2  1  2]]\n"
     ]
    }
   ],
   "source": [
    "import numpy as np\n",
    "arr=np.array([[2,3,-2],[1,-5,0],[-2,1,2]])\n",
    "print(arr)"
   ]
  },
  {
   "cell_type": "code",
   "execution_count": 3,
   "id": "19b28c22",
   "metadata": {},
   "outputs": [],
   "source": [
    "def my_primes2(n):\n",
    "    ints_array=np.arange(2,n+1)\n",
    "    while \n",
    "    return ints_array"
   ]
  },
  {
   "cell_type": "code",
   "execution_count": 4,
   "id": "35490548",
   "metadata": {},
   "outputs": [
    {
     "data": {
      "text/plain": [
       "array([3, 3, 2, 3, 2, 3, 2, 3, 2])"
      ]
     },
     "execution_count": 4,
     "metadata": {},
     "output_type": "execute_result"
    }
   ],
   "source": [
    "my_primes2(10)"
   ]
  },
  {
   "cell_type": "code",
   "execution_count": null,
   "id": "d7a7f479",
   "metadata": {},
   "outputs": [],
   "source": []
  }
 ],
 "metadata": {
  "kernelspec": {
   "display_name": "Python 3 (ipykernel)",
   "language": "python",
   "name": "python3"
  },
  "language_info": {
   "codemirror_mode": {
    "name": "ipython",
    "version": 3
   },
   "file_extension": ".py",
   "mimetype": "text/x-python",
   "name": "python",
   "nbconvert_exporter": "python",
   "pygments_lexer": "ipython3",
   "version": "3.9.13"
  }
 },
 "nbformat": 4,
 "nbformat_minor": 5
}
